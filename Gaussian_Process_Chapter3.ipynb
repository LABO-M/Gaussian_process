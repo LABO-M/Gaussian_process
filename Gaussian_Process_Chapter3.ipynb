{
 "cells": [
  {
   "attachments": {},
   "cell_type": "markdown",
   "metadata": {},
   "source": [
    "# 『ガウス過程と機械学習』3章の図に関する実装\n",
    "\n",
    "## 図3.1の実装\n",
    "基底関数を動径基底関数\n",
    "$$\n",
    "\\phi_h (x) = \\exp{\\{-\\frac{(x-\\mu_h)^2}{\\sigma^2}\\}}\\ , \\ (h = -H , \\frac{1}{H} - H , ... , - \\frac{1}{H}+H , H)\n",
    "$$\n",
    "\n",
    "としたときの回帰問題をサンプルとして提示します．\n"
   ]
  },
  {
   "cell_type": "code",
   "execution_count": 89,
   "metadata": {},
   "outputs": [],
   "source": [
    "# coding: utf-8\n",
    "import numpy as np\n",
    "import matplotlib.pyplot as plt\n",
    "\n",
    "plt.style.use('ggplot')"
   ]
  },
  {
   "cell_type": "code",
   "execution_count": 90,
   "metadata": {},
   "outputs": [
    {
     "data": {
      "text/plain": [
       "['Solarize_Light2',\n",
       " '_classic_test_patch',\n",
       " '_mpl-gallery',\n",
       " '_mpl-gallery-nogrid',\n",
       " 'bmh',\n",
       " 'classic',\n",
       " 'dark_background',\n",
       " 'fast',\n",
       " 'fivethirtyeight',\n",
       " 'ggplot',\n",
       " 'grayscale',\n",
       " 'seaborn-v0_8',\n",
       " 'seaborn-v0_8-bright',\n",
       " 'seaborn-v0_8-colorblind',\n",
       " 'seaborn-v0_8-dark',\n",
       " 'seaborn-v0_8-dark-palette',\n",
       " 'seaborn-v0_8-darkgrid',\n",
       " 'seaborn-v0_8-deep',\n",
       " 'seaborn-v0_8-muted',\n",
       " 'seaborn-v0_8-notebook',\n",
       " 'seaborn-v0_8-paper',\n",
       " 'seaborn-v0_8-pastel',\n",
       " 'seaborn-v0_8-poster',\n",
       " 'seaborn-v0_8-talk',\n",
       " 'seaborn-v0_8-ticks',\n",
       " 'seaborn-v0_8-white',\n",
       " 'seaborn-v0_8-whitegrid',\n",
       " 'tableau-colorblind10']"
      ]
     },
     "execution_count": 90,
     "metadata": {},
     "output_type": "execute_result"
    }
   ],
   "source": [
    "plt.style.available # スタイル確認"
   ]
  },
  {
   "cell_type": "code",
   "execution_count": 91,
   "metadata": {},
   "outputs": [
    {
     "data": {
      "text/plain": [
       "array([-4.00000000e+00, -3.90000000e+00, -3.80000000e+00, -3.70000000e+00,\n",
       "       -3.60000000e+00, -3.50000000e+00, -3.40000000e+00, -3.30000000e+00,\n",
       "       -3.20000000e+00, -3.10000000e+00, -3.00000000e+00, -2.90000000e+00,\n",
       "       -2.80000000e+00, -2.70000000e+00, -2.60000000e+00, -2.50000000e+00,\n",
       "       -2.40000000e+00, -2.30000000e+00, -2.20000000e+00, -2.10000000e+00,\n",
       "       -2.00000000e+00, -1.90000000e+00, -1.80000000e+00, -1.70000000e+00,\n",
       "       -1.60000000e+00, -1.50000000e+00, -1.40000000e+00, -1.30000000e+00,\n",
       "       -1.20000000e+00, -1.10000000e+00, -1.00000000e+00, -9.00000000e-01,\n",
       "       -8.00000000e-01, -7.00000000e-01, -6.00000000e-01, -5.00000000e-01,\n",
       "       -4.00000000e-01, -3.00000000e-01, -2.00000000e-01, -1.00000000e-01,\n",
       "        3.55271368e-15,  1.00000000e-01,  2.00000000e-01,  3.00000000e-01,\n",
       "        4.00000000e-01,  5.00000000e-01,  6.00000000e-01,  7.00000000e-01,\n",
       "        8.00000000e-01,  9.00000000e-01,  1.00000000e+00,  1.10000000e+00,\n",
       "        1.20000000e+00,  1.30000000e+00,  1.40000000e+00,  1.50000000e+00,\n",
       "        1.60000000e+00,  1.70000000e+00,  1.80000000e+00,  1.90000000e+00,\n",
       "        2.00000000e+00,  2.10000000e+00,  2.20000000e+00,  2.30000000e+00,\n",
       "        2.40000000e+00,  2.50000000e+00,  2.60000000e+00,  2.70000000e+00,\n",
       "        2.80000000e+00,  2.90000000e+00,  3.00000000e+00,  3.10000000e+00,\n",
       "        3.20000000e+00,  3.30000000e+00,  3.40000000e+00,  3.50000000e+00,\n",
       "        3.60000000e+00,  3.70000000e+00,  3.80000000e+00,  3.90000000e+00,\n",
       "        4.00000000e+00,  4.10000000e+00,  4.20000000e+00,  4.30000000e+00,\n",
       "        4.40000000e+00,  4.50000000e+00,  4.60000000e+00,  4.70000000e+00,\n",
       "        4.80000000e+00,  4.90000000e+00])"
      ]
     },
     "execution_count": 91,
     "metadata": {},
     "output_type": "execute_result"
    }
   ],
   "source": [
    "x = np.arange(-4 , 5 , 0.1 )\n",
    "x"
   ]
  },
  {
   "cell_type": "code",
   "execution_count": 92,
   "metadata": {},
   "outputs": [
    {
     "data": {
      "text/plain": [
       "array([-3, -2, -1,  0,  1,  2,  3,  4])"
      ]
     },
     "execution_count": 92,
     "metadata": {},
     "output_type": "execute_result"
    }
   ],
   "source": [
    "mu = np.arange(-3 , 5 , 1 )\n",
    "mu"
   ]
  },
  {
   "cell_type": "code",
   "execution_count": 93,
   "metadata": {},
   "outputs": [],
   "source": [
    "sigma = 1"
   ]
  },
  {
   "cell_type": "code",
   "execution_count": 94,
   "metadata": {},
   "outputs": [
    {
     "data": {
      "text/plain": [
       "array([-0.48, -0.64,  0.41,  0.28,  0.57,  0.5 , -0.26,  0.6 ])"
      ]
     },
     "execution_count": 94,
     "metadata": {},
     "output_type": "execute_result"
    }
   ],
   "source": [
    "omega = np.array([-0.48 , -0.64 , 0.41 , 0.28 , 0.57 , 0.50 , -0.26 , 0.60])\n",
    "omega"
   ]
  },
  {
   "cell_type": "code",
   "execution_count": 95,
   "metadata": {},
   "outputs": [],
   "source": [
    "def radial_basis_function(x , mu_h , sigma):\n",
    "    phi = np.exp(- (x - mu_h / sigma)**2)\n",
    "    return phi"
   ]
  },
  {
   "cell_type": "code",
   "execution_count": 96,
   "metadata": {},
   "outputs": [],
   "source": [
    "def radial_basis_function_vecteor(x , mu , sigma):# xとmuは同じ次元のベクトル\n",
    "    phi_vector = []\n",
    "    length = len(mu)\n",
    "    # ベクトルの各要素に対して基底関数を計算\n",
    "    for i in range(length) :\n",
    "        phi_vector.append(radial_basis_function(x , mu[i] , sigma))\n",
    "    return phi_vector"
   ]
  },
  {
   "cell_type": "code",
   "execution_count": 97,
   "metadata": {},
   "outputs": [],
   "source": [
    "def regression_function(x , omega , mu , sigma):\n",
    "    phi_vector = radial_basis_function_vecteor(x , mu , sigma)\n",
    "    y = np.dot(omega , phi_vector)\n",
    "    return yx1 = np.arange(-2, 2, 0.05) # x1点として[-2, 2]まで0.05刻みでサンプル\n",
    "x2 = np.arange(-2, 2, 0.05)  # x2点として[-2, 2]まで0.05刻みでサンプル\n",
    "x1, x2 = np.meshgrid(x1, x2)  # 上述のサンプリング点(x1,x2)を使ったメッシュ生成\n"
   ]
  },
  {
   "cell_type": "code",
   "execution_count": 98,
   "metadata": {},
   "outputs": [
    {
     "data": {
      "text/plain": [
       "[array([3.67879441e-01, 4.44858066e-01, 5.27292424e-01, 6.12626394e-01,\n",
       "        6.97676326e-01, 7.78800783e-01, 8.52143789e-01, 9.13931185e-01,\n",
       "        9.60789439e-01, 9.90049834e-01, 1.00000000e+00, 9.90049834e-01,\n",
       "        9.60789439e-01, 9.13931185e-01, 8.52143789e-01, 7.78800783e-01,\n",
       "        6.97676326e-01, 6.12626394e-01, 5.27292424e-01, 4.44858066e-01,\n",
       "        3.67879441e-01, 2.98197279e-01, 2.36927759e-01, 1.84519524e-01,\n",
       "        1.40858421e-01, 1.05399225e-01, 7.73047404e-02, 5.55762126e-02,\n",
       "        3.91638951e-02, 2.70518469e-02, 1.83156389e-02, 1.21551783e-02,\n",
       "        7.90705405e-03, 5.04176026e-03, 3.15111160e-03, 1.93045414e-03,\n",
       "        1.15922917e-03, 6.82328053e-04, 3.93669041e-04, 2.22629857e-04,\n",
       "        1.23409804e-04, 6.70548243e-05, 3.57128496e-05, 1.86437423e-05,\n",
       "        9.54016287e-06, 4.78511739e-06, 2.35257520e-06, 1.13372714e-06,\n",
       "        5.35534780e-07, 2.47959602e-07, 1.12535175e-07, 5.00621802e-08,\n",
       "        2.18295780e-08, 9.33028757e-09, 3.90893843e-09, 1.60522806e-09,\n",
       "        6.46143177e-10, 2.54938188e-10, 9.85950558e-11, 3.73757133e-11,\n",
       "        1.38879439e-11, 5.05825274e-12, 1.80583144e-12, 6.31928589e-13,\n",
       "        2.16756888e-13, 7.28772410e-14, 2.40173478e-14, 7.75840208e-15,\n",
       "        2.45659537e-15, 7.62445991e-16, 2.31952283e-16, 6.91675398e-17,\n",
       "        2.02171585e-17, 5.79231289e-18, 1.62666462e-18, 4.47773244e-19,\n",
       "        1.20818202e-19, 3.19536672e-20, 8.28367701e-21, 2.10493998e-21,\n",
       "        5.24288566e-22, 1.28001532e-22, 3.06319086e-23, 7.18533564e-24,\n",
       "        1.65209178e-24, 3.72336312e-25, 8.22528065e-26, 1.78106663e-26,\n",
       "        3.78027784e-27, 7.86468594e-28]),\n",
       " array([1.83156389e-02, 2.70518469e-02, 3.91638951e-02, 5.55762126e-02,\n",
       "        7.73047404e-02, 1.05399225e-01, 1.40858421e-01, 1.84519524e-01,\n",
       "        2.36927759e-01, 2.98197279e-01, 3.67879441e-01, 4.44858066e-01,\n",
       "        5.27292424e-01, 6.12626394e-01, 6.97676326e-01, 7.78800783e-01,\n",
       "        8.52143789e-01, 9.13931185e-01, 9.60789439e-01, 9.90049834e-01,\n",
       "        1.00000000e+00, 9.90049834e-01, 9.60789439e-01, 9.13931185e-01,\n",
       "        8.52143789e-01, 7.78800783e-01, 6.97676326e-01, 6.12626394e-01,\n",
       "        5.27292424e-01, 4.44858066e-01, 3.67879441e-01, 2.98197279e-01,\n",
       "        2.36927759e-01, 1.84519524e-01, 1.40858421e-01, 1.05399225e-01,\n",
       "        7.73047404e-02, 5.55762126e-02, 3.91638951e-02, 2.70518469e-02,\n",
       "        1.83156389e-02, 1.21551783e-02, 7.90705405e-03, 5.04176026e-03,\n",
       "        3.15111160e-03, 1.93045414e-03, 1.15922917e-03, 6.82328053e-04,\n",
       "        3.93669041e-04, 2.22629857e-04, 1.23409804e-04, 6.70548243e-05,\n",
       "        3.57128496e-05, 1.86437423e-05, 9.54016287e-06, 4.78511739e-06,\n",
       "        2.35257520e-06, 1.13372714e-06, 5.35534780e-07, 2.47959602e-07,\n",
       "        1.12535175e-07, 5.00621802e-08, 2.18295780e-08, 9.33028757e-09,\n",
       "        3.90893843e-09, 1.60522806e-09, 6.46143177e-10, 2.54938188e-10,\n",
       "        9.85950558e-11, 3.73757133e-11, 1.38879439e-11, 5.05825274e-12,\n",
       "        1.80583144e-12, 6.31928589e-13, 2.16756888e-13, 7.28772410e-14,\n",
       "        2.40173478e-14, 7.75840208e-15, 2.45659537e-15, 7.62445991e-16,\n",
       "        2.31952283e-16, 6.91675398e-17, 2.02171585e-17, 5.79231289e-18,\n",
       "        1.62666462e-18, 4.47773244e-19, 1.20818202e-19, 3.19536672e-20,\n",
       "        8.28367701e-21, 2.10493998e-21]),\n",
       " array([1.23409804e-04, 2.22629857e-04, 3.93669041e-04, 6.82328053e-04,\n",
       "        1.15922917e-03, 1.93045414e-03, 3.15111160e-03, 5.04176026e-03,\n",
       "        7.90705405e-03, 1.21551783e-02, 1.83156389e-02, 2.70518469e-02,\n",
       "        3.91638951e-02, 5.55762126e-02, 7.73047404e-02, 1.05399225e-01,\n",
       "        1.40858421e-01, 1.84519524e-01, 2.36927759e-01, 2.98197279e-01,\n",
       "        3.67879441e-01, 4.44858066e-01, 5.27292424e-01, 6.12626394e-01,\n",
       "        6.97676326e-01, 7.78800783e-01, 8.52143789e-01, 9.13931185e-01,\n",
       "        9.60789439e-01, 9.90049834e-01, 1.00000000e+00, 9.90049834e-01,\n",
       "        9.60789439e-01, 9.13931185e-01, 8.52143789e-01, 7.78800783e-01,\n",
       "        6.97676326e-01, 6.12626394e-01, 5.27292424e-01, 4.44858066e-01,\n",
       "        3.67879441e-01, 2.98197279e-01, 2.36927759e-01, 1.84519524e-01,\n",
       "        1.40858421e-01, 1.05399225e-01, 7.73047404e-02, 5.55762126e-02,\n",
       "        3.91638951e-02, 2.70518469e-02, 1.83156389e-02, 1.21551783e-02,\n",
       "        7.90705405e-03, 5.04176026e-03, 3.15111160e-03, 1.93045414e-03,\n",
       "        1.15922917e-03, 6.82328053e-04, 3.93669041e-04, 2.22629857e-04,\n",
       "        1.23409804e-04, 6.70548243e-05, 3.57128496e-05, 1.86437423e-05,\n",
       "        9.54016287e-06, 4.78511739e-06, 2.35257520e-06, 1.13372714e-06,\n",
       "        5.35534780e-07, 2.47959602e-07, 1.12535175e-07, 5.00621802e-08,\n",
       "        2.18295780e-08, 9.33028757e-09, 3.90893843e-09, 1.60522806e-09,\n",
       "        6.46143177e-10, 2.54938188e-10, 9.85950558e-11, 3.73757133e-11,\n",
       "        1.38879439e-11, 5.05825274e-12, 1.80583144e-12, 6.31928589e-13,\n",
       "        2.16756888e-13, 7.28772410e-14, 2.40173478e-14, 7.75840208e-15,\n",
       "        2.45659537e-15, 7.62445991e-16]),\n",
       " array([1.12535175e-07, 2.47959602e-07, 5.35534780e-07, 1.13372714e-06,\n",
       "        2.35257520e-06, 4.78511739e-06, 9.54016287e-06, 1.86437423e-05,\n",
       "        3.57128496e-05, 6.70548243e-05, 1.23409804e-04, 2.22629857e-04,\n",
       "        3.93669041e-04, 6.82328053e-04, 1.15922917e-03, 1.93045414e-03,\n",
       "        3.15111160e-03, 5.04176026e-03, 7.90705405e-03, 1.21551783e-02,\n",
       "        1.83156389e-02, 2.70518469e-02, 3.91638951e-02, 5.55762126e-02,\n",
       "        7.73047404e-02, 1.05399225e-01, 1.40858421e-01, 1.84519524e-01,\n",
       "        2.36927759e-01, 2.98197279e-01, 3.67879441e-01, 4.44858066e-01,\n",
       "        5.27292424e-01, 6.12626394e-01, 6.97676326e-01, 7.78800783e-01,\n",
       "        8.52143789e-01, 9.13931185e-01, 9.60789439e-01, 9.90049834e-01,\n",
       "        1.00000000e+00, 9.90049834e-01, 9.60789439e-01, 9.13931185e-01,\n",
       "        8.52143789e-01, 7.78800783e-01, 6.97676326e-01, 6.12626394e-01,\n",
       "        5.27292424e-01, 4.44858066e-01, 3.67879441e-01, 2.98197279e-01,\n",
       "        2.36927759e-01, 1.84519524e-01, 1.40858421e-01, 1.05399225e-01,\n",
       "        7.73047404e-02, 5.55762126e-02, 3.91638951e-02, 2.70518469e-02,\n",
       "        1.83156389e-02, 1.21551783e-02, 7.90705405e-03, 5.04176026e-03,\n",
       "        3.15111160e-03, 1.93045414e-03, 1.15922917e-03, 6.82328053e-04,\n",
       "        3.93669041e-04, 2.22629857e-04, 1.23409804e-04, 6.70548243e-05,\n",
       "        3.57128496e-05, 1.86437423e-05, 9.54016287e-06, 4.78511739e-06,\n",
       "        2.35257520e-06, 1.13372714e-06, 5.35534780e-07, 2.47959602e-07,\n",
       "        1.12535175e-07, 5.00621802e-08, 2.18295780e-08, 9.33028757e-09,\n",
       "        3.90893843e-09, 1.60522806e-09, 6.46143177e-10, 2.54938188e-10,\n",
       "        9.85950558e-11, 3.73757133e-11]),\n",
       " array([1.38879439e-11, 3.73757133e-11, 9.85950558e-11, 2.54938188e-10,\n",
       "        6.46143177e-10, 1.60522806e-09, 3.90893843e-09, 9.33028757e-09,\n",
       "        2.18295780e-08, 5.00621802e-08, 1.12535175e-07, 2.47959602e-07,\n",
       "        5.35534780e-07, 1.13372714e-06, 2.35257520e-06, 4.78511739e-06,\n",
       "        9.54016287e-06, 1.86437423e-05, 3.57128496e-05, 6.70548243e-05,\n",
       "        1.23409804e-04, 2.22629857e-04, 3.93669041e-04, 6.82328053e-04,\n",
       "        1.15922917e-03, 1.93045414e-03, 3.15111160e-03, 5.04176026e-03,\n",
       "        7.90705405e-03, 1.21551783e-02, 1.83156389e-02, 2.70518469e-02,\n",
       "        3.91638951e-02, 5.55762126e-02, 7.73047404e-02, 1.05399225e-01,\n",
       "        1.40858421e-01, 1.84519524e-01, 2.36927759e-01, 2.98197279e-01,\n",
       "        3.67879441e-01, 4.44858066e-01, 5.27292424e-01, 6.12626394e-01,\n",
       "        6.97676326e-01, 7.78800783e-01, 8.52143789e-01, 9.13931185e-01,\n",
       "        9.60789439e-01, 9.90049834e-01, 1.00000000e+00, 9.90049834e-01,\n",
       "        9.60789439e-01, 9.13931185e-01, 8.52143789e-01, 7.78800783e-01,\n",
       "        6.97676326e-01, 6.12626394e-01, 5.27292424e-01, 4.44858066e-01,\n",
       "        3.67879441e-01, 2.98197279e-01, 2.36927759e-01, 1.84519524e-01,\n",
       "        1.40858421e-01, 1.05399225e-01, 7.73047404e-02, 5.55762126e-02,\n",
       "        3.91638951e-02, 2.70518469e-02, 1.83156389e-02, 1.21551783e-02,\n",
       "        7.90705405e-03, 5.04176026e-03, 3.15111160e-03, 1.93045414e-03,\n",
       "        1.15922917e-03, 6.82328053e-04, 3.93669041e-04, 2.22629857e-04,\n",
       "        1.23409804e-04, 6.70548243e-05, 3.57128496e-05, 1.86437423e-05,\n",
       "        9.54016287e-06, 4.78511739e-06, 2.35257520e-06, 1.13372714e-06,\n",
       "        5.35534780e-07, 2.47959602e-07]),\n",
       " array([2.31952283e-16, 7.62445991e-16, 2.45659537e-15, 7.75840208e-15,\n",
       "        2.40173478e-14, 7.28772410e-14, 2.16756888e-13, 6.31928589e-13,\n",
       "        1.80583144e-12, 5.05825274e-12, 1.38879439e-11, 3.73757133e-11,\n",
       "        9.85950558e-11, 2.54938188e-10, 6.46143177e-10, 1.60522806e-09,\n",
       "        3.90893843e-09, 9.33028757e-09, 2.18295780e-08, 5.00621802e-08,\n",
       "        1.12535175e-07, 2.47959602e-07, 5.35534780e-07, 1.13372714e-06,\n",
       "        2.35257520e-06, 4.78511739e-06, 9.54016287e-06, 1.86437423e-05,\n",
       "        3.57128496e-05, 6.70548243e-05, 1.23409804e-04, 2.22629857e-04,\n",
       "        3.93669041e-04, 6.82328053e-04, 1.15922917e-03, 1.93045414e-03,\n",
       "        3.15111160e-03, 5.04176026e-03, 7.90705405e-03, 1.21551783e-02,\n",
       "        1.83156389e-02, 2.70518469e-02, 3.91638951e-02, 5.55762126e-02,\n",
       "        7.73047404e-02, 1.05399225e-01, 1.40858421e-01, 1.84519524e-01,\n",
       "        2.36927759e-01, 2.98197279e-01, 3.67879441e-01, 4.44858066e-01,\n",
       "        5.27292424e-01, 6.12626394e-01, 6.97676326e-01, 7.78800783e-01,\n",
       "        8.52143789e-01, 9.13931185e-01, 9.60789439e-01, 9.90049834e-01,\n",
       "        1.00000000e+00, 9.90049834e-01, 9.60789439e-01, 9.13931185e-01,\n",
       "        8.52143789e-01, 7.78800783e-01, 6.97676326e-01, 6.12626394e-01,\n",
       "        5.27292424e-01, 4.44858066e-01, 3.67879441e-01, 2.98197279e-01,\n",
       "        2.36927759e-01, 1.84519524e-01, 1.40858421e-01, 1.05399225e-01,\n",
       "        7.73047404e-02, 5.55762126e-02, 3.91638951e-02, 2.70518469e-02,\n",
       "        1.83156389e-02, 1.21551783e-02, 7.90705405e-03, 5.04176026e-03,\n",
       "        3.15111160e-03, 1.93045414e-03, 1.15922917e-03, 6.82328053e-04,\n",
       "        3.93669041e-04, 2.22629857e-04]),\n",
       " array([5.24288566e-22, 2.10493998e-21, 8.28367701e-21, 3.19536672e-20,\n",
       "        1.20818202e-19, 4.47773244e-19, 1.62666462e-18, 5.79231289e-18,\n",
       "        2.02171585e-17, 6.91675398e-17, 2.31952283e-16, 7.62445991e-16,\n",
       "        2.45659537e-15, 7.75840208e-15, 2.40173478e-14, 7.28772410e-14,\n",
       "        2.16756888e-13, 6.31928589e-13, 1.80583144e-12, 5.05825274e-12,\n",
       "        1.38879439e-11, 3.73757133e-11, 9.85950558e-11, 2.54938188e-10,\n",
       "        6.46143177e-10, 1.60522806e-09, 3.90893843e-09, 9.33028757e-09,\n",
       "        2.18295780e-08, 5.00621802e-08, 1.12535175e-07, 2.47959602e-07,\n",
       "        5.35534780e-07, 1.13372714e-06, 2.35257520e-06, 4.78511739e-06,\n",
       "        9.54016287e-06, 1.86437423e-05, 3.57128496e-05, 6.70548243e-05,\n",
       "        1.23409804e-04, 2.22629857e-04, 3.93669041e-04, 6.82328053e-04,\n",
       "        1.15922917e-03, 1.93045414e-03, 3.15111160e-03, 5.04176026e-03,\n",
       "        7.90705405e-03, 1.21551783e-02, 1.83156389e-02, 2.70518469e-02,\n",
       "        3.91638951e-02, 5.55762126e-02, 7.73047404e-02, 1.05399225e-01,\n",
       "        1.40858421e-01, 1.84519524e-01, 2.36927759e-01, 2.98197279e-01,\n",
       "        3.67879441e-01, 4.44858066e-01, 5.27292424e-01, 6.12626394e-01,\n",
       "        6.97676326e-01, 7.78800783e-01, 8.52143789e-01, 9.13931185e-01,\n",
       "        9.60789439e-01, 9.90049834e-01, 1.00000000e+00, 9.90049834e-01,\n",
       "        9.60789439e-01, 9.13931185e-01, 8.52143789e-01, 7.78800783e-01,\n",
       "        6.97676326e-01, 6.12626394e-01, 5.27292424e-01, 4.44858066e-01,\n",
       "        3.67879441e-01, 2.98197279e-01, 2.36927759e-01, 1.84519524e-01,\n",
       "        1.40858421e-01, 1.05399225e-01, 7.73047404e-02, 5.55762126e-02,\n",
       "        3.91638951e-02, 2.70518469e-02]),\n",
       " array([1.60381089e-28, 7.86468594e-28, 3.78027784e-27, 1.78106663e-26,\n",
       "        8.22528065e-26, 3.72336312e-25, 1.65209178e-24, 7.18533564e-24,\n",
       "        3.06319086e-23, 1.28001532e-22, 5.24288566e-22, 2.10493998e-21,\n",
       "        8.28367701e-21, 3.19536672e-20, 1.20818202e-19, 4.47773244e-19,\n",
       "        1.62666462e-18, 5.79231289e-18, 2.02171585e-17, 6.91675398e-17,\n",
       "        2.31952283e-16, 7.62445991e-16, 2.45659537e-15, 7.75840208e-15,\n",
       "        2.40173478e-14, 7.28772410e-14, 2.16756888e-13, 6.31928589e-13,\n",
       "        1.80583144e-12, 5.05825274e-12, 1.38879439e-11, 3.73757133e-11,\n",
       "        9.85950558e-11, 2.54938188e-10, 6.46143177e-10, 1.60522806e-09,\n",
       "        3.90893843e-09, 9.33028757e-09, 2.18295780e-08, 5.00621802e-08,\n",
       "        1.12535175e-07, 2.47959602e-07, 5.35534780e-07, 1.13372714e-06,\n",
       "        2.35257520e-06, 4.78511739e-06, 9.54016287e-06, 1.86437423e-05,\n",
       "        3.57128496e-05, 6.70548243e-05, 1.23409804e-04, 2.22629857e-04,\n",
       "        3.93669041e-04, 6.82328053e-04, 1.15922917e-03, 1.93045414e-03,\n",
       "        3.15111160e-03, 5.04176026e-03, 7.90705405e-03, 1.21551783e-02,\n",
       "        1.83156389e-02, 2.70518469e-02, 3.91638951e-02, 5.55762126e-02,\n",
       "        7.73047404e-02, 1.05399225e-01, 1.40858421e-01, 1.84519524e-01,\n",
       "        2.36927759e-01, 2.98197279e-01, 3.67879441e-01, 4.44858066e-01,\n",
       "        5.27292424e-01, 6.12626394e-01, 6.97676326e-01, 7.78800783e-01,\n",
       "        8.52143789e-01, 9.13931185e-01, 9.60789439e-01, 9.90049834e-01,\n",
       "        1.00000000e+00, 9.90049834e-01, 9.60789439e-01, 9.13931185e-01,\n",
       "        8.52143789e-01, 7.78800783e-01, 6.97676326e-01, 6.12626394e-01,\n",
       "        5.27292424e-01, 4.44858066e-01])]"
      ]
     },
     "execution_count": 98,
     "metadata": {},
     "output_type": "execute_result"
    }
   ],
   "source": [
    "phi_vector = radial_basis_function_vecteor(x , mu , sigma)\n",
    "phi_vector"
   ]
  },
  {
   "cell_type": "code",
   "execution_count": 99,
   "metadata": {},
   "outputs": [
    {
     "data": {
      "text/plain": [
       "array([-0.18825351, -0.23075371, -0.2780037 , -0.32934937, -0.38388373,\n",
       "       -0.44048705, -0.49788378, -0.55470712, -0.60956079, -0.66106775,\n",
       "       -0.70789881, -0.74877935, -0.78247835, -0.80778992, -0.823521  ,\n",
       "       -0.82849994, -0.82161696, -0.8019013 , -0.76863088, -0.72146118,\n",
       "       -0.66055278, -0.58667324, -0.50125012, -0.40635768, -0.30462951,\n",
       "       -0.19910127, -0.09299891,  0.0105029 ,  0.10852249,  0.19868359,\n",
       "        0.27927348,  0.34933075,  0.40865651,  0.45775395,  0.49770911,\n",
       "        0.53003196,  0.55647847,  0.57887343,  0.59895016,  0.61821835,\n",
       "        0.63786641,  0.65870062,  0.68112036,  0.70512649,  0.73035881,\n",
       "        0.75615713,  0.78163888,  0.80578527,  0.82752632,  0.84581585,\n",
       "        0.85968832,  0.86829346,  0.87090858,  0.86693421,  0.85588263,\n",
       "        0.83737152,  0.81113398,  0.77705299,  0.73522137,  0.68602147,\n",
       "        0.63021091,  0.56899629,  0.50407445,  0.43762392,  0.37223441,\n",
       "        0.31077177,  0.25618508,  0.21127276,  0.17843148,  0.15941643,\n",
       "        0.1551419 ,  0.16554777,  0.18955111,  0.22509252,  0.26927643,\n",
       "        0.31859358,  0.36920422,  0.4172532 ,  0.45918412,  0.49201969,\n",
       "        0.51357954,  0.52261443,  0.51884634,  0.50291514,  0.47624408,\n",
       "        0.44084463,  0.39908752,  0.35346783,  0.30638998,  0.25999282])"
      ]
     },
     "execution_count": 99,
     "metadata": {},
     "output_type": "execute_result"
    }
   ],
   "source": [
    "y = regression_function(x , omega , mu , sigma)\n",
    "y"
   ]
  },
  {
   "cell_type": "code",
   "execution_count": 100,
   "metadata": {},
   "outputs": [
    {
     "data": {
      "text/plain": [
       "Text(0.5, 1.0, 'regression_function')"
      ]
     },
     "execution_count": 100,
     "metadata": {},
     "output_type": "execute_result"
    },
    {
     "data": {
      "image/png": "[encoded data removed]",
      "text/plain": [
       "<Figure size 1400x600 with 1 Axes>"
      ]
     },
     "metadata": {},
     "output_type": "display_data"
    }
   ],
   "source": [
    "fig , ax = plt.subplots(figsize=(14, 6))\n",
    "\n",
    "ax.plot(x , y , label = \"regression_function\")\n",
    "ax.set_title(\"regression_function\")"
   ]
  },
  {
   "attachments": {},
   "cell_type": "markdown",
   "metadata": {},
   "source": [
    "## 図3.4の実装\n",
    "ガウス過程の概念図を実装します．\n",
    "\n",
    "ただし，今回カーネルは以下のように定義します．\n",
    "$$\n",
    "k(x , x^{'}) = \\theta_1 \\exp{\\left( - \\frac{(x - x^{'})^2}{\\theta_2} \\right)} + \\theta_3 \\delta(x , x^{'})\n",
    "$$"
   ]
  },
  {
   "cell_type": "code",
   "execution_count": 105,
   "metadata": {},
   "outputs": [],
   "source": [
    "Theta_1 , Theta_2 , Theta_3 = 10 , 1 , 0.1"
   ]
  },
  {
   "cell_type": "code",
   "execution_count": 103,
   "metadata": {},
   "outputs": [],
   "source": [
    "# カーネル関数を定義\n",
    "def kernel(x, x_prime, p, q, r):\n",
    "    if x == x_prime:\n",
    "        delta = 1\n",
    "    else:\n",
    "        delta = 0\n",
    "    \n",
    "    kernel =  p*np.exp(-1 * (x - x_prime)**2 / q) + (r * delta) \n",
    "    return kernel"
   ]
  },
  {
   "cell_type": "code",
   "execution_count": 104,
   "metadata": {},
   "outputs": [],
   "source": [
    "# カーネル計算を実行する関数\n",
    "def compute_kernel(X , Theta_1 , Theta_2 , Theta_3):\n",
    "    inputdata_length = len(X)\n",
    "    K = np.zeros((inputdata_length, inputdata_length)) # 2次元配列\n",
    "    for x in range(inputdata_length):\n",
    "        for x_prime in range(inputdata_length):\n",
    "            K[x, x_prime] = kernel(X[x], X[x_prime], Theta_1, Theta_2, Theta_3)\n",
    "    return K"
   ]
  },
  {
   "cell_type": "code",
   "execution_count": 107,
   "metadata": {},
   "outputs": [],
   "source": [
    "kai = np.arange(-4 , 5 , 1 )"
   ]
  },
  {
   "cell_type": "code",
   "execution_count": 109,
   "metadata": {},
   "outputs": [],
   "source": [
    "K = compute_kernel(kai , Theta_1 , Theta_2 , Theta_3)"
   ]
  },
  {
   "cell_type": "code",
   "execution_count": 113,
   "metadata": {},
   "outputs": [
    {
     "data": {
      "image/png": "[encoded data removed]",
      "text/plain": [
       "<Figure size 600x600 with 1 Axes>"
      ]
     },
     "metadata": {},
     "output_type": "display_data"
    }
   ],
   "source": [
    "fig, ax = plt.subplots(figsize=(6, 6) )\n",
    "im = ax.imshow(K)\n",
    "plt.show()"
   ]
  },
  {
   "cell_type": "code",
   "execution_count": null,
   "metadata": {},
   "outputs": [],
   "source": []
  }
 ],
 "metadata": {
  "kernelspec": {
   "display_name": "base",
   "language": "python",
   "name": "python3"
  },
  "language_info": {
   "codemirror_mode": {
    "name": "ipython",
    "version": 3
   },
   "file_extension": ".py",
   "mimetype": "text/x-python",
   "name": "python",
   "nbconvert_exporter": "python",
   "pygments_lexer": "ipython3",
   "version": "3.10.9"
  },
  "orig_nbformat": 4
 },
 "nbformat": 4,
 "nbformat_minor": 2
}
